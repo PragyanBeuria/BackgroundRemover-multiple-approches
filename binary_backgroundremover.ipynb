{
  "cells": [
    {
      "cell_type": "markdown",
      "metadata": {
        "id": "view-in-github",
        "colab_type": "text"
      },
      "source": [
        "<a href=\"https://colab.research.google.com/github/PragyanBeuria/BackgroundRemover-multiple-approches/blob/main/binary_backgroundremover.ipynb\" target=\"_parent\"><img src=\"https://colab.research.google.com/assets/colab-badge.svg\" alt=\"Open In Colab\"/></a>"
      ]
    },
    {
      "cell_type": "markdown",
      "source": [
        "**mount gdrive on colab**"
      ],
      "metadata": {
        "id": "6UCLcKA-uvLi"
      }
    },
    {
      "cell_type": "code",
      "execution_count": null,
      "metadata": {
        "colab": {
          "base_uri": "https://localhost:8080/"
        },
        "id": "UGbn2RLfHHrq",
        "outputId": "54ac070c-172c-4a29-d50f-113155976604"
      },
      "outputs": [
        {
          "output_type": "stream",
          "name": "stdout",
          "text": [
            "Mounted at /content/drive\n"
          ]
        }
      ],
      "source": [
        "from google.colab import drive\n",
        "# Mount Google Drive\n",
        "drive.mount('/content/drive')"
      ]
    },
    {
      "cell_type": "code",
      "execution_count": null,
      "metadata": {
        "colab": {
          "base_uri": "https://localhost:8080/"
        },
        "id": "hIPfYidNHR3a",
        "outputId": "cca31397-80f8-40cb-c0d2-23615305e782"
      },
      "outputs": [
        {
          "output_type": "stream",
          "name": "stdout",
          "text": [
            "/content/drive/MyDrive/Background_Remover/custombg/dataset/flower_images\n"
          ]
        }
      ],
      "source": [
        "%cd /content/drive/MyDrive/Background_Remover/custombg/dataset/flower_images"
      ]
    },
    {
      "cell_type": "markdown",
      "source": [
        "**install and import modules and libraries**"
      ],
      "metadata": {
        "id": "duoMGb7wvAKW"
      }
    },
    {
      "cell_type": "code",
      "source": [
        "!pip install opencv-python"
      ],
      "metadata": {
        "colab": {
          "base_uri": "https://localhost:8080/"
        },
        "id": "ufd1jCWNbtcm",
        "outputId": "16b09665-aa6f-4661-e23b-57e7309727eb"
      },
      "execution_count": null,
      "outputs": [
        {
          "output_type": "stream",
          "name": "stdout",
          "text": [
            "Requirement already satisfied: opencv-python in /usr/local/lib/python3.10/dist-packages (4.7.0.72)\n",
            "Requirement already satisfied: numpy>=1.21.2 in /usr/local/lib/python3.10/dist-packages (from opencv-python) (1.22.4)\n"
          ]
        }
      ]
    },
    {
      "cell_type": "code",
      "execution_count": null,
      "metadata": {
        "id": "ds89mZynHZDb"
      },
      "outputs": [],
      "source": [
        "import tensorflow as tf\n",
        "from tensorflow.keras import layers\n",
        "import os\n",
        "import cv2\n",
        "import numpy as np"
      ]
    },
    {
      "cell_type": "code",
      "source": [
        "from google.colab.patches import cv2_imshow"
      ],
      "metadata": {
        "id": "j20c1raTqZTm"
      },
      "execution_count": null,
      "outputs": []
    },
    {
      "cell_type": "code",
      "execution_count": null,
      "metadata": {
        "id": "WNBqKeGwyl7Y"
      },
      "outputs": [],
      "source": [
        "from PIL import Image"
      ]
    },
    {
      "cell_type": "code",
      "source": [
        "import matplotlib.pyplot as plt"
      ],
      "metadata": {
        "id": "oUIJlLGFxaCL"
      },
      "execution_count": null,
      "outputs": []
    },
    {
      "cell_type": "code",
      "source": [
        "import os\n",
        "import shutil"
      ],
      "metadata": {
        "id": "VSp00BKFvNQW"
      },
      "execution_count": null,
      "outputs": []
    },
    {
      "cell_type": "markdown",
      "source": [
        "**create directories for input ,train and test**\n"
      ],
      "metadata": {
        "id": "T2gpsjfHvKUd"
      }
    },
    {
      "cell_type": "code",
      "execution_count": null,
      "metadata": {
        "id": "TDrx3ZpURCZ9"
      },
      "outputs": [],
      "source": [
        "import tensorflow as tf\n",
        "from tensorflow.keras.preprocessing.image import ImageDataGenerator\n",
        "from PIL import Image\n",
        "import numpy as np\n",
        "import os"
      ]
    },
    {
      "cell_type": "code",
      "source": [
        "from keras.models import load_model"
      ],
      "metadata": {
        "id": "2q8ivbFptj5c"
      },
      "execution_count": null,
      "outputs": []
    },
    {
      "cell_type": "code",
      "execution_count": null,
      "metadata": {
        "id": "9fsI-Q_UR4-3"
      },
      "outputs": [],
      "source": [
        "!pip install pillow"
      ]
    },
    {
      "cell_type": "code",
      "execution_count": null,
      "metadata": {
        "id": "9it1gNpSTJW_"
      },
      "outputs": [],
      "source": [
        "# Set up directories for input, training, and testing data\n",
        "input_dir = '/content/drive/MyDrive/Background_Remover/custombg/dataset/flower_images'\n",
        "train_dir = '/content/drive/MyDrive/Background_Remover/custombg/dataset/train'\n",
        "test_dir = '/content/drive/MyDrive/Background_Remover/custombg/dataset/validation'"
      ]
    },
    {
      "cell_type": "markdown",
      "source": [
        "**load input dataset into train and test folders**"
      ],
      "metadata": {
        "id": "Z0qxW7ZvvdO6"
      }
    },
    {
      "cell_type": "code",
      "execution_count": null,
      "metadata": {
        "id": "U8kzMjATTh2q"
      },
      "outputs": [],
      "source": [
        "# Get a list of class directories in the input directory\n",
        "class_dirs = [f for f in os.listdir(input_dir) if os.path.isdir(os.path.join(input_dir, f))]\n",
        "\n",
        "# Split each class directory into train and test directories\n",
        "for class_dir in class_dirs:\n",
        "    class_input_dir = os.path.join(input_dir, class_dir)\n",
        "    class_train_dir = os.path.join(train_dir, class_dir)\n",
        "    class_test_dir = os.path.join(test_dir, class_dir)\n",
        "\n",
        "    os.makedirs(class_train_dir, exist_ok=True)\n",
        "    os.makedirs(class_test_dir, exist_ok=True)\n",
        "\n",
        "    # Get a list of images in the class directory\n",
        "    images = [f for f in os.listdir(class_input_dir) if os.path.isfile(os.path.join(class_input_dir, f))]\n",
        "\n",
        "    # Specify the split index\n",
        "    split_index = int(len(images) * 0.8)  # 80% for training, 20% for testing\n",
        "\n",
        "    # Copy images to train directory\n",
        "    for image in images[:split_index]:\n",
        "        src_path = os.path.join(class_input_dir, image)\n",
        "        dst_path = os.path.join(class_train_dir, image)\n",
        "        shutil.copyfile(src_path, dst_path)\n",
        "\n",
        "    # Copy images to test directory\n",
        "    for image in images[split_index:]:\n",
        "        src_path = os.path.join(class_input_dir, image)\n",
        "        dst_path = os.path.join(class_test_dir, image)\n",
        "        shutil.copyfile(src_path, dst_path)\n"
      ]
    },
    {
      "cell_type": "markdown",
      "source": [
        "**create codes for image generators forv train and test directories**"
      ],
      "metadata": {
        "id": "0CUNDiiYvtae"
      }
    },
    {
      "cell_type": "code",
      "execution_count": null,
      "metadata": {
        "id": "_AbowzmEQ65I"
      },
      "outputs": [],
      "source": [
        "# Set up data augmentation for training data\n",
        "train_data_gen = ImageDataGenerator(rescale=1./255,\n",
        "                                    rotation_range=20,\n",
        "                                    width_shift_range=0.2,\n",
        "                                    height_shift_range=0.2,\n",
        "                                    horizontal_flip=True)"
      ]
    },
    {
      "cell_type": "code",
      "execution_count": null,
      "metadata": {
        "colab": {
          "base_uri": "https://localhost:8080/"
        },
        "id": "VO16M3WFREfU",
        "outputId": "710844b1-737a-438f-a6d1-f6eb46fbf483"
      },
      "outputs": [
        {
          "output_type": "stream",
          "name": "stdout",
          "text": [
            "Found 390 images belonging to 5 classes.\n"
          ]
        }
      ],
      "source": [
        "# Load and preprocess the dataset\n",
        "batch_size = 32\n",
        "image_size = (256, 256)\n",
        "train_generator = train_data_gen.flow_from_directory(train_dir,\n",
        "                                                    target_size=image_size,\n",
        "                                                    batch_size=batch_size,\n",
        "                                                    class_mode='categorical')"
      ]
    },
    {
      "cell_type": "code",
      "execution_count": null,
      "metadata": {
        "colab": {
          "base_uri": "https://localhost:8080/"
        },
        "id": "rByh7FTET5_p",
        "outputId": "b59c7689-296c-446b-d7b9-2001beeacfa3"
      },
      "outputs": [
        {
          "output_type": "stream",
          "name": "stdout",
          "text": [
            "Found 100 images belonging to 5 classes.\n"
          ]
        }
      ],
      "source": [
        "# Load and preprocess the testing dataset\n",
        "test_generator = ImageDataGenerator(rescale=1./255).flow_from_directory(test_dir,\n",
        "                                                                        target_size=image_size,\n",
        "                                                                        batch_size=batch_size,\n",
        "                                                                        class_mode='categorical')\n",
        "\n",
        "num_classes = len(train_generator.class_indices)"
      ]
    },
    {
      "cell_type": "markdown",
      "source": [
        "**create model for dataset**"
      ],
      "metadata": {
        "id": "FzLE0njAv1tc"
      }
    },
    {
      "cell_type": "code",
      "execution_count": null,
      "metadata": {
        "id": "49lwWZwCVT-7"
      },
      "outputs": [],
      "source": [
        "def create_model(input_shape, num_classes):\n",
        "    # Define your CNN model architecture\n",
        "    model = tf.keras.models.Sequential([\n",
        "        tf.keras.layers.Conv2D(64, (3, 3), activation='relu', input_shape=input_shape),\n",
        "        tf.keras.layers.Conv2D(64, (3, 3), activation='relu'),\n",
        "        tf.keras.layers.MaxPooling2D(pool_size=(2, 2)),\n",
        "        tf.keras.layers.Conv2D(128, (3, 3), activation='relu'),\n",
        "        tf.keras.layers.Conv2D(128, (3, 3), activation='relu'),\n",
        "        tf.keras.layers.MaxPooling2D(pool_size=(2, 2)),\n",
        "        tf.keras.layers.Conv2D(256, (3, 3), activation='relu'),\n",
        "        tf.keras.layers.Conv2D(256, (3, 3), activation='relu'),\n",
        "        tf.keras.layers.MaxPooling2D(pool_size=(2, 2)),\n",
        "        tf.keras.layers.Flatten(),\n",
        "        tf.keras.layers.Dense(1024, activation='relu'),\n",
        "        tf.keras.layers.Dense(num_classes, activation='softmax')\n",
        "    ])\n",
        "\n",
        "    # Compile the model\n",
        "    model.compile(optimizer='adam', loss='categorical_crossentropy', metrics=['accuracy'])\n",
        "\n",
        "    return model\n"
      ]
    },
    {
      "cell_type": "code",
      "execution_count": null,
      "metadata": {
        "id": "DNLjGUwaULMb"
      },
      "outputs": [],
      "source": [
        "# Create the model\n",
        "model = create_model(input_shape,num_classes)"
      ]
    },
    {
      "cell_type": "code",
      "source": [
        "input_shape=(256,256,3)\n",
        "num_classes=5"
      ],
      "metadata": {
        "id": "okhTek_9hirB"
      },
      "execution_count": null,
      "outputs": []
    },
    {
      "cell_type": "code",
      "execution_count": null,
      "metadata": {
        "id": "lk0Gp1vCUJGJ",
        "colab": {
          "base_uri": "https://localhost:8080/"
        },
        "outputId": "a24bd938-5786-40d5-c704-ed8dd22ae9d4"
      },
      "outputs": [
        {
          "output_type": "stream",
          "name": "stdout",
          "text": [
            "Epoch 1/10\n",
            "12/12 [==============================] - 47s 2s/step - loss: 26.2215 - accuracy: 0.8128 - val_loss: 1.2486 - val_accuracy: 0.2396\n",
            "Epoch 2/10\n",
            "12/12 [==============================] - 16s 1s/step - loss: 0.3489 - accuracy: 0.9078 - val_loss: 0.2436 - val_accuracy: 0.9583\n",
            "Epoch 3/10\n",
            "12/12 [==============================] - 14s 1s/step - loss: 0.1514 - accuracy: 0.9749 - val_loss: 0.2467 - val_accuracy: 0.9583\n",
            "Epoch 4/10\n",
            "12/12 [==============================] - 14s 1s/step - loss: 0.1554 - accuracy: 0.9777 - val_loss: 0.3268 - val_accuracy: 0.9583\n",
            "Epoch 5/10\n",
            "12/12 [==============================] - 14s 1s/step - loss: 0.1796 - accuracy: 0.9749 - val_loss: 0.2896 - val_accuracy: 0.9583\n",
            "Epoch 6/10\n",
            "12/12 [==============================] - 16s 1s/step - loss: 0.1392 - accuracy: 0.9777 - val_loss: 0.2632 - val_accuracy: 0.9583\n",
            "Epoch 7/10\n",
            "12/12 [==============================] - 14s 1s/step - loss: 0.1138 - accuracy: 0.9804 - val_loss: 0.2618 - val_accuracy: 0.9688\n",
            "Epoch 8/10\n",
            "12/12 [==============================] - 14s 1s/step - loss: 0.1863 - accuracy: 0.9749 - val_loss: 0.2667 - val_accuracy: 0.9583\n",
            "Epoch 9/10\n",
            "12/12 [==============================] - 14s 1s/step - loss: 0.1167 - accuracy: 0.9832 - val_loss: 0.3164 - val_accuracy: 0.9583\n",
            "Epoch 10/10\n",
            "12/12 [==============================] - 14s 1s/step - loss: 0.1535 - accuracy: 0.9749 - val_loss: 0.3361 - val_accuracy: 0.9583\n"
          ]
        },
        {
          "output_type": "execute_result",
          "data": {
            "text/plain": [
              "<keras.callbacks.History at 0x7fa188220100>"
            ]
          },
          "metadata": {},
          "execution_count": 15
        }
      ],
      "source": [
        "# Train the model\n",
        "epochs = 10\n",
        "model.fit(train_generator,\n",
        "          steps_per_epoch=train_generator.samples // batch_size,\n",
        "          validation_data=test_generator,\n",
        "          validation_steps=test_generator.samples // batch_size,\n",
        "          epochs=epochs)\n"
      ]
    },
    {
      "cell_type": "markdown",
      "source": [
        "**save model weight**"
      ],
      "metadata": {
        "id": "2QFhfeuAv9Ml"
      }
    },
    {
      "cell_type": "code",
      "execution_count": null,
      "metadata": {
        "id": "qs2n96CPZpL5"
      },
      "outputs": [],
      "source": [
        "# Save the model weights\n",
        "model.save_weights('/content/drive/MyDrive/Background_Remover/custombg/model_weights/custombgr.h5')"
      ]
    },
    {
      "cell_type": "markdown",
      "source": [
        "**create background remover functions to create binary mask**"
      ],
      "metadata": {
        "id": "vyXTa9WmwE-z"
      }
    },
    {
      "cell_type": "code",
      "source": [
        "import cv2\n",
        "import numpy as np\n",
        "\n",
        "# Generate binary mask to remove background\n",
        "def generate_mask(image):\n",
        "    # Convert image to grayscale\n",
        "    gray = cv2.cvtColor(image, cv2.COLOR_RGB2GRAY)\n",
        "\n",
        "    # Binarize the image using Otsu's method\n",
        "    _, binary = cv2.threshold(gray, 0, 255, cv2.THRESH_BINARY_INV + cv2.THRESH_OTSU)\n",
        "\n",
        "    # Apply a median filter to remove noise\n",
        "    binary = cv2.medianBlur(binary, 3)\n",
        "\n",
        "    # Resize the mask to match the image size\n",
        "    mask = cv2.resize(binary, (image.shape[1], image.shape[0]))\n",
        "\n",
        "    # Reshape the mask to have 3 channels\n",
        "    mask = np.expand_dims(mask, axis=2)\n",
        "    mask = np.repeat(mask, 3, axis=2)\n",
        "\n",
        "    return mask\n",
        "\n",
        "# Extract foreground object using binary mask\n",
        "def extract_foreground(image, mask):\n",
        "    foreground = np.zeros_like(image)\n",
        "    foreground[mask > 0] = image[mask > 0]\n",
        "    return foreground\n",
        "\n",
        "# Remove background from image using binary mask\n",
        "def remove_background(image, mask):\n",
        "    background = np.zeros_like(image)\n",
        "    background[mask == 0] = image[mask == 0]\n",
        "    return background\n",
        "\n",
        "# Apply post-processing to the output images for more clarity\n",
        "def postprocess(image):\n",
        "    # Convert to grayscale\n",
        "    gray = cv2.cvtColor(image, cv2.COLOR_RGB2GRAY)\n",
        "\n",
        "    # Apply bilateral filter to smooth the edges\n",
        "    smoothed = cv2.bilateralFilter(gray, 9, 75, 75)\n",
        "\n",
        "    # Apply threshold to remove any remaining artifacts\n",
        "    _, binary = cv2.threshold(smoothed, 10, 255, cv2.THRESH_BINARY)\n",
        "\n",
        "    # Apply median filter to remove noise\n",
        "    binary = cv2.medianBlur(binary, 3)\n",
        "\n",
        "    # Apply erosion to remove small holes\n",
        "    kernel = np.ones((3, 3), np.uint8)\n",
        "    binary = cv2.erode(binary, kernel, iterations=1)\n",
        "\n",
        "    # Apply dilation to fill in the remaining holes\n",
        "    binary = cv2.dilate(binary, kernel, iterations=1)\n",
        "\n",
        "    # Apply bitwise-and to the original image to get the final result\n",
        "    result = cv2.bitwise_and(image, image, mask=binary)\n",
        "\n",
        "    return result"
      ],
      "metadata": {
        "id": "I7qeDG4g1YNS"
      },
      "execution_count": null,
      "outputs": []
    },
    {
      "cell_type": "markdown",
      "source": [
        "**Load the model weights**"
      ],
      "metadata": {
        "id": "yOi4l2MSwPpP"
      }
    },
    {
      "cell_type": "code",
      "source": [
        "# Load the model weights\n",
        "model.load_weights('/content/drive/MyDrive/Background_Remover/custombg/model_weights/custombgr.h5')"
      ],
      "metadata": {
        "id": "FAQOqIDKZX_A"
      },
      "execution_count": null,
      "outputs": []
    },
    {
      "cell_type": "markdown",
      "source": [
        "**test on custom image**"
      ],
      "metadata": {
        "id": "4V68_CWKwYnQ"
      }
    },
    {
      "cell_type": "code",
      "source": [
        "# Load a custom image\n",
        "image_path ='/content/drive/MyDrive/Background_Remover/custombg/dataset/rose.jpg'\n",
        "image = cv2.imread(image_path)"
      ],
      "metadata": {
        "id": "-vvgD9ADG_ZX"
      },
      "execution_count": null,
      "outputs": []
    },
    {
      "cell_type": "code",
      "source": [
        "image = cv2.cvtColor(image, cv2.COLOR_BGR2RGB)\n",
        "\n",
        "# Generate the binary mask\n",
        "mask = generate_mask(image)\n",
        "\n",
        "# Extract the foreground\n",
        "foreground = extract_foreground(image, mask)\n",
        "\n",
        "# Remove the background\n",
        "background = remove_background(image, mask)\n",
        "\n",
        "# Apply post-processing to the foreground and background\n",
        "foreground_processed = postprocess(foreground)"
      ],
      "metadata": {
        "id": "88j1wz7hTAfM"
      },
      "execution_count": null,
      "outputs": []
    },
    {
      "cell_type": "code",
      "source": [
        "fig = plt.figure()\n",
        "ax1 = fig.add_subplot(2,2,1)\n",
        "ax1.imshow(image)\n",
        "ax2 = fig.add_subplot(2,2,2)\n",
        "ax2.imshow(mask)\n",
        "ax3 = fig.add_subplot(2,2,3)\n",
        "ax3.imshow(foreground_processed)"
      ],
      "metadata": {
        "colab": {
          "base_uri": "https://localhost:8080/",
          "height": 434
        },
        "id": "ZGtIMj29VLTT",
        "outputId": "63ba717e-4f00-4f18-e97b-4f8c457a532a"
      },
      "execution_count": null,
      "outputs": [
        {
          "output_type": "execute_result",
          "data": {
            "text/plain": [
              "<matplotlib.image.AxesImage at 0x7f5541d1c040>"
            ]
          },
          "metadata": {},
          "execution_count": 65
        },
        {
          "output_type": "display_data",
          "data": {
            "text/plain": [
              "<Figure size 640x480 with 3 Axes>"
            ],
            "image/png": "[encoded data removed]"
          },
          "metadata": {}
        }
      ]
    },
    {
      "cell_type": "code",
      "source": [
        "fig = plt.figure()\n",
        "ax1 = fig.add_subplot(2,2,1)\n",
        "ax1.imshow(image_)\n",
        "ax2 = fig.add_subplot(2,2,2)\n",
        "ax2.imshow(image_with_alpha)\n",
        "ax3 = fig.add_subplot(2,2,3)\n",
        "ax3.imshow(image_with_alpha_processed)"
      ],
      "metadata": {
        "id": "XUZd3LHD4q-p"
      },
      "execution_count": null,
      "outputs": []
    }
  ],
  "metadata": {
    "colab": {
      "provenance": [],
      "gpuType": "T4",
      "authorship_tag": "ABX9TyNlUl6g2DUvZSjF9LPAh8TZ",
      "include_colab_link": true
    },
    "kernelspec": {
      "display_name": "Python 3",
      "name": "python3"
    },
    "language_info": {
      "name": "python"
    }
  },
  "nbformat": 4,
  "nbformat_minor": 0
}